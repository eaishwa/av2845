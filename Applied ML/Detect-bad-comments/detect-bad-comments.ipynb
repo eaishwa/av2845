{
 "cells": [
  {
   "cell_type": "markdown",
   "metadata": {},
   "source": [
    "# AML HW-4 "
   ]
  },
  {
   "cell_type": "code",
   "execution_count": 5,
   "metadata": {},
   "outputs": [],
   "source": [
    "import pandas as pd\n",
    "import numpy as np\n",
    "from sklearn.feature_extraction.text import CountVectorizer\n",
    "from sklearn.model_selection import train_test_split\n",
    "import matplotlib.pyplot as plt\n",
    "import warnings"
   ]
  },
  {
   "cell_type": "markdown",
   "metadata": {},
   "source": [
    "## Read train data"
   ]
  },
  {
   "cell_type": "code",
   "execution_count": 6,
   "metadata": {},
   "outputs": [
    {
     "name": "stdout",
     "output_type": "stream",
     "text": [
      "<class 'pandas.core.frame.DataFrame'>\n",
      "Int64Index: 20000 entries, 93004 to 69344\n",
      "Data columns (total 2 columns):\n",
      "body       20000 non-null object\n",
      "REMOVED    20000 non-null bool\n",
      "dtypes: bool(1), object(1)\n",
      "memory usage: 332.0+ KB\n"
     ]
    }
   ],
   "source": [
    "train = pd.read_csv('rscience-popular-comment-removal/reddit_200k_train.csv',\n",
    "                    encoding='iso-8859-1')\n",
    "train = train[['body','REMOVED']]\n",
    "train = train.sample(n=20000)\n",
    "train.info()"
   ]
  },
  {
   "cell_type": "markdown",
   "metadata": {},
   "source": [
    "## Read Test Data"
   ]
  },
  {
   "cell_type": "code",
   "execution_count": 7,
   "metadata": {},
   "outputs": [
    {
     "name": "stdout",
     "output_type": "stream",
     "text": [
      "<class 'pandas.core.frame.DataFrame'>\n",
      "Int64Index: 4000 entries, 36500 to 13330\n",
      "Data columns (total 2 columns):\n",
      "body       4000 non-null object\n",
      "REMOVED    4000 non-null bool\n",
      "dtypes: bool(1), object(1)\n",
      "memory usage: 66.4+ KB\n"
     ]
    }
   ],
   "source": [
    "test = pd.read_csv('rscience-popular-comment-removal/reddit_200k_test.csv',\n",
    "                   encoding='iso-8859-1')\n",
    "test = test[['body','REMOVED']]\n",
    "test = test.sample(n=4000)\n",
    "test.info()"
   ]
  },
  {
   "cell_type": "markdown",
   "metadata": {},
   "source": [
    "## Visualize the imbalance"
   ]
  },
  {
   "cell_type": "code",
   "execution_count": 66,
   "metadata": {},
   "outputs": [
    {
     "data": {
      "image/png": "[encoded data removed]",
      "text/plain": [
       "<Figure size 432x288 with 1 Axes>"
      ]
     },
     "metadata": {
      "needs_background": "light"
     },
     "output_type": "display_data"
    }
   ],
   "source": [
    "import seaborn as sns\n",
    "fig , ax = plt.subplots(figsize=(6,4))\n",
    "sns.countplot(x='REMOVED', data=train)\n",
    "plt.title(\"Count of applied\")\n",
    "plt.show()"
   ]
  },
  {
   "cell_type": "markdown",
   "metadata": {},
   "source": [
    "From the above plot, we can observe that the dataset doesn't have a remarkabke imbalance. It is pretty fair. For this homework, we choose roc_auc as our scoring parameter. It is a robust measure classification performance. Also, we do not split the train data into test/train, we train the models on the whole train data and test on the test data provided."
   ]
  },
  {
   "cell_type": "markdown",
   "metadata": {},
   "source": [
    "The below code snippet collects a list of stop words from the nltk API."
   ]
  },
  {
   "cell_type": "code",
   "execution_count": 9,
   "metadata": {},
   "outputs": [
    {
     "name": "stderr",
     "output_type": "stream",
     "text": [
      "[nltk_data] Downloading package stopwords to /Users/alex/nltk_data...\n",
      "[nltk_data]   Package stopwords is already up-to-date!\n"
     ]
    }
   ],
   "source": [
    "from nltk.corpus import stopwords\n",
    "import nltk\n",
    "nltk.download('stopwords')\n",
    "stop = stopwords.words('english')"
   ]
  },
  {
   "cell_type": "markdown",
   "metadata": {},
   "source": [
    "## Q1.1"
   ]
  },
  {
   "cell_type": "markdown",
   "metadata": {},
   "source": [
    "As a baseline model, we present countvectorizer with default parameters and fit a logistic regression model on the data."
   ]
  },
  {
   "cell_type": "markdown",
   "metadata": {},
   "source": [
    "## Count vectorizer"
   ]
  },
  {
   "cell_type": "code",
   "execution_count": 69,
   "metadata": {},
   "outputs": [
    {
     "name": "stderr",
     "output_type": "stream",
     "text": [
      "/Users/alex/anaconda3/envs/py37/lib/python3.7/site-packages/sklearn/linear_model/logistic.py:433: FutureWarning: Default solver will be changed to 'lbfgs' in 0.22. Specify a solver to silence this warning.\n",
      "  FutureWarning)\n"
     ]
    }
   ],
   "source": [
    "from sklearn.linear_model import LogisticRegression\n",
    "with warnings.catch_warnings():\n",
    "    vect = CountVectorizer()\n",
    "    X_train = vect.fit_transform(train['body'])\n",
    "    lr = LogisticRegression().fit(X_train, train['REMOVED'])\n",
    "    y_pred = lr.predict(vect.transform(test['body']))"
   ]
  },
  {
   "cell_type": "code",
   "execution_count": 70,
   "metadata": {},
   "outputs": [
    {
     "data": {
      "text/plain": [
       "0.6534125674057227"
      ]
     },
     "execution_count": 70,
     "metadata": {},
     "output_type": "execute_result"
    }
   ],
   "source": [
    "from sklearn.metrics import roc_auc_score\n",
    "print(\"ROC AUC score on test data for the baseline model:\")\n",
    "roc_auc_score(test['REMOVED'].values.ravel(),y_pred)"
   ]
  },
  {
   "cell_type": "markdown",
   "metadata": {},
   "source": [
    "The above score is the baseline roc_auc."
   ]
  },
  {
   "cell_type": "code",
   "execution_count": 72,
   "metadata": {},
   "outputs": [
    {
     "data": {
      "text/plain": [
       "<BarContainer object of 10 artists>"
      ]
     },
     "execution_count": 72,
     "metadata": {},
     "output_type": "execute_result"
    },
    {
     "data": {
      "image/png": "[encoded data removed]",
      "text/plain": [
       "<Figure size 432x288 with 1 Axes>"
      ]
     },
     "metadata": {
      "needs_background": "light"
     },
     "output_type": "display_data"
    }
   ],
   "source": [
    "# lr.coef_.tolist()[0]\n",
    "import matplotlib.pyplot as plt\n",
    "df = pd.DataFrame({'features':vect.get_feature_names(),'coeffs':lr.coef_.tolist()[0]})\n",
    "df = df.reindex(df.coeffs.abs().sort_values(ascending = False).index)\n",
    "plt.bar(df.iloc[:10,0],df.iloc[:10,1])"
   ]
  },
  {
   "cell_type": "markdown",
   "metadata": {},
   "source": [
    "Removing punctuations/ stop words still hurt the model performance. This can be inferred as such words being a key differentiator between bad and good comments."
   ]
  },
  {
   "cell_type": "markdown",
   "metadata": {},
   "source": [
    "## Q1.2"
   ]
  },
  {
   "cell_type": "markdown",
   "metadata": {},
   "source": [
    "## TFIDF Vectorization (default parameters)"
   ]
  },
  {
   "cell_type": "code",
   "execution_count": 5,
   "metadata": {},
   "outputs": [],
   "source": [
    "data_x = train['body']\n",
    "data_y = train['REMOVED']"
   ]
  },
  {
   "cell_type": "code",
   "execution_count": 6,
   "metadata": {},
   "outputs": [
    {
     "name": "stdout",
     "output_type": "stream",
     "text": [
      "TFIDF vectorizer with default parameters with GridSearchCV on regularization parameter gives the best parameter and roc auc validation score:\n",
      "{'logisticregression__C': 1}\n",
      "0.7339112649110733\n"
     ]
    }
   ],
   "source": [
    "from sklearn.feature_extraction.text import TfidfVectorizer\n",
    "from sklearn.model_selection import GridSearchCV\n",
    "from sklearn.linear_model import LogisticRegression\n",
    "from sklearn.pipeline import make_pipeline\n",
    "\n",
    "with warnings.catch_warnings():\n",
    "    warnings.simplefilter(\"ignore\")\n",
    "    param_lr = {'logisticregression__C': [0.001, 0.01, 0.1, 1, 10, 100] }\n",
    "    gs_lr = GridSearchCV(estimator=make_pipeline(TfidfVectorizer(),\n",
    "                                                 LogisticRegression()),\n",
    "                         param_grid=param_lr,scoring=\"roc_auc\")\n",
    "    gs_lr.fit(data_x,data_y)\n",
    "    print(\"TFIDF vectorizer with default parameters with GridSearchCV on \\\n",
    "        regularization parameter gives the best parameter and roc auc validation score:\")\n",
    "    print(gs_lr.best_params_)\n",
    "    print(gs_lr.best_score_)"
   ]
  },
  {
   "cell_type": "code",
   "execution_count": 9,
   "metadata": {},
   "outputs": [
    {
     "name": "stdout",
     "output_type": "stream",
     "text": [
      "The test score for the above model is :\n"
     ]
    },
    {
     "data": {
      "text/plain": [
       "0.6368888956870992"
      ]
     },
     "execution_count": 9,
     "metadata": {},
     "output_type": "execute_result"
    }
   ],
   "source": [
    "from sklearn.metrics import roc_auc_score\n",
    "y_pred = gs_lr.best_estimator_.predict(test['body'])\n",
    "print(\"The test score for the above model is :\")\n",
    "roc_auc_score(test['REMOVED'], y_pred)"
   ]
  },
  {
   "cell_type": "markdown",
   "metadata": {},
   "source": [
    "## Count Vectorizer (bi-grams)"
   ]
  },
  {
   "cell_type": "code",
   "execution_count": 75,
   "metadata": {},
   "outputs": [
    {
     "name": "stdout",
     "output_type": "stream",
     "text": [
      "{'logisticregression__C': 0.1}\n",
      "0.7286419756419035\n"
     ]
    }
   ],
   "source": [
    "from sklearn.linear_model import LogisticRegressionCV\n",
    "from sklearn.model_selection import GridSearchCV\n",
    "from sklearn.linear_model import LogisticRegression\n",
    "\n",
    "with warnings.catch_warnings():\n",
    "    warnings.simplefilter(\"ignore\")\n",
    "    param_lr = {'logisticregression__C': [0.001, 0.01, 0.1, 1, 10, 100] }\n",
    "    gs_lr = GridSearchCV(estimator=make_pipeline(CountVectorizer(ngram_range=(1,2)),\n",
    "                                                 LogisticRegression()),\n",
    "                         param_grid=param_lr,scoring=\"roc_auc\")\n",
    "    gs_lr.fit(data_x,data_y)\n",
    "    print(gs_lr.best_params_)\n",
    "    print(gs_lr.best_score_)"
   ]
  },
  {
   "cell_type": "markdown",
   "metadata": {},
   "source": [
    "As shown above is the count vectorizer with bi-grams included and GridSearchCV on regularization parameter gives the best parameter and roc auc validation score"
   ]
  },
  {
   "cell_type": "code",
   "execution_count": 76,
   "metadata": {},
   "outputs": [
    {
     "data": {
      "text/plain": [
       "0.668593654478653"
      ]
     },
     "execution_count": 76,
     "metadata": {},
     "output_type": "execute_result"
    }
   ],
   "source": [
    "y_pred = gs_lr.best_estimator_.predict(test['body'])\n",
    "roc_auc_score(test['REMOVED'],y_pred)"
   ]
  },
  {
   "cell_type": "markdown",
   "metadata": {},
   "source": [
    "As shown above is the test roc auc for the same model"
   ]
  },
  {
   "cell_type": "markdown",
   "metadata": {},
   "source": [
    "## Count vectorization with Normalization and Grid Search on min_df and ngram_range"
   ]
  },
  {
   "cell_type": "code",
   "execution_count": 77,
   "metadata": {},
   "outputs": [
    {
     "name": "stdout",
     "output_type": "stream",
     "text": [
      "{'countvectorizer__min_df': 2, 'countvectorizer__ngram_range': (2, 2), 'logisticregression__C': 1}\n",
      "0.6870029111181523\n"
     ]
    }
   ],
   "source": [
    "from sklearn.model_selection import GridSearchCV\n",
    "from sklearn.linear_model import LogisticRegression\n",
    "from sklearn.preprocessing import Normalizer\n",
    "from sklearn.pipeline import make_pipeline\n",
    "\n",
    "with warnings.catch_warnings():\n",
    "    warnings.simplefilter(\"ignore\")\n",
    "\n",
    "    param_grid = {\"logisticregression__C\": [10, 1, 0.1],\n",
    "                  \"countvectorizer__ngram_range\": [(2, 2), (2, 3)],\n",
    "                  \"countvectorizer__min_df\": [1, 2, 3],\n",
    "                 }\n",
    "    grid = GridSearchCV(make_pipeline(CountVectorizer(), Normalizer(), \n",
    "                                      LogisticRegression(),\n",
    "                                      memory=\"cache_folder\"),\n",
    "                        param_grid=param_grid, cv=3, scoring=\"roc_auc\"\n",
    "                       )\n",
    "    grid.fit(text_train,y_train)\n",
    "    print(grid.best_params_)\n",
    "    print(grid.best_score_)"
   ]
  },
  {
   "cell_type": "code",
   "execution_count": 78,
   "metadata": {},
   "outputs": [
    {
     "data": {
      "text/plain": [
       "0.668593654478653"
      ]
     },
     "execution_count": 78,
     "metadata": {},
     "output_type": "execute_result"
    }
   ],
   "source": [
    "y_pred = gs_lr.best_estimator_.predict(test['body'])\n",
    "roc_auc_score(test['REMOVED'],y_pred)"
   ]
  },
  {
   "cell_type": "markdown",
   "metadata": {},
   "source": [
    "#### The above model is generalizes very well on different datasets. Most importantly, it doesn't overfit the training data. This is an important observation."
   ]
  },
  {
   "cell_type": "markdown",
   "metadata": {},
   "source": [
    "## Count Vectorization with character-grams that appear in at least 2 documents"
   ]
  },
  {
   "cell_type": "code",
   "execution_count": 79,
   "metadata": {},
   "outputs": [],
   "source": [
    "from sklearn.model_selection import GridSearchCV\n",
    "from sklearn.linear_model import LogisticRegression\n",
    "from sklearn.preprocessing import Normalizer\n",
    "from sklearn.pipeline import make_pipeline\n",
    "\n",
    "with warnings.catch_warnings():\n",
    "    warnings.simplefilter(\"ignore\")\n",
    "\n",
    "    param_grid = {\"logisticregression__C\": [10, 1, 0.1, 0.01]}\n",
    "    grid = GridSearchCV(make_pipeline(CountVectorizer(analyzer=\"char_wb\", \n",
    "                                                      ngram_range=(1, 2), \n",
    "                                                      min_df=2), \n",
    "                                      Normalizer(), LogisticRegression(),\n",
    "                                      memory=\"cache_folder\"),\n",
    "                        param_grid=param_grid, cv=3, scoring=\"roc_auc\"\n",
    "                       )\n",
    "    grid.fit(text_train,y_train)"
   ]
  },
  {
   "cell_type": "code",
   "execution_count": 80,
   "metadata": {
    "scrolled": true
   },
   "outputs": [
    {
     "name": "stdout",
     "output_type": "stream",
     "text": [
      "{'logisticregression__C': 10}\n",
      "0.7360287580783794\n"
     ]
    }
   ],
   "source": [
    "print(grid.best_params_)\n",
    "print(grid.best_score_)"
   ]
  },
  {
   "cell_type": "code",
   "execution_count": 81,
   "metadata": {},
   "outputs": [
    {
     "data": {
      "text/plain": [
       "0.668593654478653"
      ]
     },
     "execution_count": 81,
     "metadata": {},
     "output_type": "execute_result"
    }
   ],
   "source": [
    "y_pred = gs_lr.best_estimator_.predict(test['body'])\n",
    "roc_auc_score(test['REMOVED'],y_pred)"
   ]
  },
  {
   "cell_type": "markdown",
   "metadata": {},
   "source": [
    "# Remove punctuation, numbers, stopwords, and one letter words"
   ]
  },
  {
   "cell_type": "code",
   "execution_count": 86,
   "metadata": {},
   "outputs": [],
   "source": [
    "train_new = train.copy()\n",
    "\n",
    "train_new['body'] = train_new['body'].str.replace(r'[^\\w\\s]+', '')\n",
    "train_new['body'] = train_new['body'].str.replace(r'\\d+', '')\n",
    "train_new['body'] = train_new.apply(lambda x: ' '.join([item for \\\n",
    "    item in x['body'].split() if item not in stop and len(item) > 1]), axis=1)\n",
    "\n",
    "test_new = test.copy()\n",
    "\n",
    "test_new['body'] = test_new['body'].str.replace(r'[^\\w\\s]+', '')\n",
    "test_new['body'] = test_new['body'].str.replace(r'\\d+', '')\n",
    "test_new['body'] = test_new.apply(lambda x: ' '.join([item for \\\n",
    "    item in x['body'].split() if item not in stop and len(item) > 1]), axis=1)"
   ]
  },
  {
   "cell_type": "markdown",
   "metadata": {},
   "source": [
    "The following models fit the preprocessed data as above."
   ]
  },
  {
   "cell_type": "markdown",
   "metadata": {},
   "source": [
    "## TFIDF Vectorization + Grid Search (default parameters)"
   ]
  },
  {
   "cell_type": "code",
   "execution_count": 93,
   "metadata": {},
   "outputs": [
    {
     "name": "stdout",
     "output_type": "stream",
     "text": [
      "{'logisticregression__C': 1, 'tfidfvectorizer__ngram_range': (2, 3)}\n",
      "0.7350216478366282\n"
     ]
    }
   ],
   "source": [
    "data_x = train_new['body']\n",
    "data_y = train['REMOVED']\n",
    "\n",
    "with warnings.catch_warnings():\n",
    "    warnings.simplefilter(\"ignore\")\n",
    "    param_lr = {'logisticregression__C': [0.1, 1, 10],\n",
    "                'tfidfvectorizer__ngram_range': [(2,2), (2,3), (3,3)]}\n",
    "    gs_lr = GridSearchCV(estimator=make_pipeline(TfidfVectorizer(min_df=2, \n",
    "                                                                 analyzer='char_wb'),\n",
    "                                                 LogisticRegression()),\n",
    "                         param_grid=param_lr,scoring=\"roc_auc\")\n",
    "    gs_lr.fit(data_x,data_y)\n",
    "    print(gs_lr.best_params_)\n",
    "    print(gs_lr.best_score_)"
   ]
  },
  {
   "cell_type": "code",
   "execution_count": 94,
   "metadata": {},
   "outputs": [
    {
     "data": {
      "text/plain": [
       "0.6600407364591309"
      ]
     },
     "execution_count": 94,
     "metadata": {},
     "output_type": "execute_result"
    }
   ],
   "source": [
    "y_pred = gs_lr.best_estimator_.predict(test['body'])\n",
    "roc_auc_score(test['REMOVED'], y_pred)"
   ]
  },
  {
   "cell_type": "markdown",
   "metadata": {},
   "source": [
    "## Tfidf Vectorization with l1 normalization for feature selection"
   ]
  },
  {
   "cell_type": "code",
   "execution_count": 100,
   "metadata": {},
   "outputs": [
    {
     "name": "stdout",
     "output_type": "stream",
     "text": [
      "{'logisticregression__C': 10, 'tfidfvectorizer__ngram_range': (2, 2)}\n",
      "0.6007656159548914\n"
     ]
    }
   ],
   "source": [
    "from sklearn.model_selection import GridSearchCV\n",
    "from sklearn.linear_model import LogisticRegression\n",
    "from sklearn.preprocessing import Normalizer\n",
    "from sklearn.pipeline import make_pipeline\n",
    "\n",
    "data_x = train_new['body']\n",
    "data_y = train['REMOVED']\n",
    "\n",
    "with warnings.catch_warnings():\n",
    "    warnings.simplefilter(\"ignore\")\n",
    "\n",
    "    param_grid = {\"logisticregression__C\": [10, 1, 0.1],\n",
    "                  \"tfidfvectorizer__ngram_range\": [(2, 2), (2, 3), (3, 3)],\n",
    "                 }\n",
    "    grid = GridSearchCV(make_pipeline(TfidfVectorizer(min_df=2), \n",
    "                                      Normalizer(norm='l1'), LogisticRegression(),\n",
    "                                      memory=\"cache_folder\"),\n",
    "                        param_grid=param_grid, cv=3, scoring=\"roc_auc\"\n",
    "                       )\n",
    "    grid.fit(data_x, data_y)\n",
    "    print(grid.best_params_)\n",
    "    print(grid.best_score_)"
   ]
  },
  {
   "cell_type": "code",
   "execution_count": 101,
   "metadata": {},
   "outputs": [
    {
     "data": {
      "text/plain": [
       "0.5579356682125239"
      ]
     },
     "execution_count": 101,
     "metadata": {},
     "output_type": "execute_result"
    }
   ],
   "source": [
    "y_pred = grid.best_estimator_.predict(test['body'])\n",
    "roc_auc_score(test['REMOVED'], y_pred)"
   ]
  },
  {
   "cell_type": "markdown",
   "metadata": {},
   "source": [
    "We are getting poor results after removing stop words and punctuations. That makes sense in a way that unwanted comments tend to contain many stop words or irrelavant punctuations."
   ]
  },
  {
   "cell_type": "markdown",
   "metadata": {},
   "source": [
    "## Parts Of Speech Tagging"
   ]
  },
  {
   "cell_type": "markdown",
   "metadata": {},
   "source": [
    "In this method, we generate the part of speech for every word in the dataset and run a bag of words model on that transformed dataset with parts of speech as features."
   ]
  },
  {
   "cell_type": "code",
   "execution_count": 105,
   "metadata": {},
   "outputs": [
    {
     "name": "stderr",
     "output_type": "stream",
     "text": [
      "[nltk_data] Downloading package punkt to /Users/alex/nltk_data...\n",
      "[nltk_data]   Package punkt is already up-to-date!\n",
      "[nltk_data] Downloading package averaged_perceptron_tagger to\n",
      "[nltk_data]     /Users/alex/nltk_data...\n",
      "[nltk_data]   Package averaged_perceptron_tagger is already up-to-\n",
      "[nltk_data]       date!\n"
     ]
    },
    {
     "name": "stdout",
     "output_type": "stream",
     "text": [
      "(20000,)\n"
     ]
    }
   ],
   "source": [
    "import nltk\n",
    "nltk.download('punkt')\n",
    "nltk.download('averaged_perceptron_tagger')\n",
    "\n",
    "df = []\n",
    "for index,row in train['body'].iteritems():\n",
    "    all_rows = []\n",
    "    tokens = nltk.word_tokenize(row)\n",
    "    pos = nltk.pos_tag(tokens)\n",
    "    for tup in pos:\n",
    "        all_rows.append(tup[1])\n",
    "    df.append(all_rows)\n",
    "\n",
    "df = np.array(df)\n",
    "pos_train = []\n",
    "for r in df:\n",
    "    string = ' '.join(r)\n",
    "    pos_train.append(string)\n",
    "pos_train = np.array(pos_train)\n"
   ]
  },
  {
   "cell_type": "code",
   "execution_count": 106,
   "metadata": {},
   "outputs": [
    {
     "name": "stdout",
     "output_type": "stream",
     "text": [
      "(4000,)\n"
     ]
    }
   ],
   "source": [
    "df = []\n",
    "for index,row in test['body'].iteritems():\n",
    "    all_rows = []\n",
    "    tokens = nltk.word_tokenize(row)\n",
    "    pos = nltk.pos_tag(tokens)\n",
    "    for tup in pos:\n",
    "        all_rows.append(tup[1])\n",
    "    df.append(all_rows)\n",
    "\n",
    "df = np.array(df)\n",
    "pos_test = []\n",
    "for r in df:\n",
    "    string = ' '.join(r)\n",
    "    pos_test.append(string)\n",
    "pos_test = np.array(pos_test)"
   ]
  },
  {
   "cell_type": "code",
   "execution_count": 114,
   "metadata": {},
   "outputs": [
    {
     "name": "stdout",
     "output_type": "stream",
     "text": [
      "{'logisticregression__C': 0.001}\n",
      "0.6596571286812043\n"
     ]
    }
   ],
   "source": [
    "with warnings.catch_warnings():\n",
    "    warnings.simplefilter(\"ignore\")\n",
    "\n",
    "    param_grid = {\"logisticregression__C\": [0.0001,0.001,10, 1, 0.1,1000]}\n",
    "    grid = GridSearchCV(make_pipeline(CountVectorizer(min_df=2), \n",
    "                                      LogisticRegression(),\n",
    "                                      memory=\"cache_folder\"),\n",
    "                        param_grid=param_grid, cv=3, scoring=\"roc_auc\"\n",
    "                       )\n",
    "    grid.fit(pos_train, train['REMOVED'])\n",
    "    print(grid.best_params_)\n",
    "    print(grid.best_score_)"
   ]
  },
  {
   "cell_type": "code",
   "execution_count": 115,
   "metadata": {},
   "outputs": [
    {
     "data": {
      "text/plain": [
       "0.5"
      ]
     },
     "execution_count": 115,
     "metadata": {},
     "output_type": "execute_result"
    }
   ],
   "source": [
    "y_pred = grid.best_estimator_.predict(test['body'])\n",
    "roc_auc_score(test['REMOVED'], y_pred)"
   ]
  },
  {
   "cell_type": "markdown",
   "metadata": {},
   "source": [
    "#### POS tagging performs miserably bad and hence we discard this model"
   ]
  },
  {
   "cell_type": "markdown",
   "metadata": {},
   "source": [
    "# 1.3 Deriving Other Features"
   ]
  },
  {
   "cell_type": "code",
   "execution_count": 138,
   "metadata": {},
   "outputs": [],
   "source": [
    "import regex\n",
    "\n",
    "def swear_words(row):\n",
    "    sent = row['sent'].lower()\n",
    "    matches = [r'fuck', r'shit', r'ass', r'bitch', r'dick']\n",
    "    total = 0\n",
    "    \n",
    "    for pattern in matches:\n",
    "        total += len(regex.findall(pattern, sent))\n",
    "    \n",
    "    return total\n",
    "    \n",
    "def strong_words(row):\n",
    "    sent = row['sent'].lower()\n",
    "    matches = [r'dumb', r'idiot', r'moron', r'stupid', r'suck', r'damn', r'hell']\n",
    "    total = 0\n",
    "    \n",
    "    for pattern in matches:\n",
    "        total += len(regex.findall(pattern, sent))\n",
    "    \n",
    "    return total\n",
    "\n",
    "def html_tags(row):\n",
    "    return len(regex.findall(r'</?\\w+>', row['sent']))\n",
    "\n",
    "def compute_wl(row):\n",
    "    avgs_word = [len(x) for x in row['sent'].split()]\n",
    "    return sum(avgs_word) / len(avgs_word) if len(avgs_word) != 0 else 0    \n",
    "\n",
    "def feature_adder(data):\n",
    "    data_df = pd.DataFrame({'index': data.index, 'sent': data.values})\n",
    "    \n",
    "    data_df['sent'] = data_df['sent'].str.replace(r'\\d+', '')\n",
    "    data_df['sent'] = data_df.apply(lambda x: ' '.join([item for \\\n",
    "        item in x['sent'].split() if item not in stop and len(item) > 1]), axis=1)\n",
    "    \n",
    "    data_df['length'] = data_df['sent'].apply(len)\n",
    "    data_df['num_words'] = data_df['sent'].str.split().apply(len)\n",
    "    data_df['avg_word_length'] = data_df.apply(lambda row: compute_wl(row), axis=1)\n",
    "    data_df['word_length_ratio'] = data_df['num_words'] / data_df['length']\n",
    "    data_df['num_caps'] = data_df.apply(lambda row: \\\n",
    "        sum(1 for c in row['sent'] if c.isupper()), axis=1)\n",
    "    data_df['num_exclamations'] = data_df.apply(lambda row: \\\n",
    "        len(regex.findall(r'!', row['sent'])), axis=1)\n",
    "    data_df['num_swear_words'] = data_df.apply(lambda row: swear_words(row), axis=1)\n",
    "    data_df['num_strong_words'] = data_df.apply(lambda row: \\\n",
    "        len(regex.findall(r'</?\\w+', row['sent'])), axis=1)\n",
    "    \n",
    "    return data_df"
   ]
  },
  {
   "cell_type": "markdown",
   "metadata": {},
   "source": [
    "The new features added are:\n",
    "\n",
    "length, number of words, average word length, word length ratio, number of capital letters, number of exclamations, number of swear words and number of strong words."
   ]
  },
  {
   "cell_type": "code",
   "execution_count": 139,
   "metadata": {},
   "outputs": [],
   "source": [
    "train_new_derived = feature_adder(train['body'])\n",
    "test_new_derived = feature_adder(test['body'])\n",
    "\n",
    "train_new_derived['REMOVED'] = train['REMOVED'].reset_index(drop=True)\n",
    "test_new_derived['REMOVED'] = test['REMOVED'].reset_index(drop=True)"
   ]
  },
  {
   "cell_type": "code",
   "execution_count": 141,
   "metadata": {},
   "outputs": [],
   "source": [
    "train_new_derived_x = train_new_derived.drop(columns=['index', 'sent', 'REMOVED'])\n",
    "train_new_derived_y = train_new_derived['REMOVED']"
   ]
  },
  {
   "cell_type": "code",
   "execution_count": 142,
   "metadata": {},
   "outputs": [],
   "source": [
    "test_new_derived_x = test_new_derived.drop(columns=['index', 'sent', 'REMOVED'])\n",
    "test_new_derived_y = test_new_derived['REMOVED']"
   ]
  },
  {
   "cell_type": "markdown",
   "metadata": {},
   "source": [
    "## With just new features (including polynomial features)"
   ]
  },
  {
   "cell_type": "code",
   "execution_count": 143,
   "metadata": {},
   "outputs": [
    {
     "name": "stdout",
     "output_type": "stream",
     "text": [
      "{'C': 0.1}\n",
      "0.6648255850538843\n"
     ]
    }
   ],
   "source": [
    "with warnings.catch_warnings():\n",
    "    warnings.simplefilter(\"ignore\")\n",
    "\n",
    "    param_grid = {\"C\": [10, 1, 0.1]}\n",
    "    \n",
    "    grid = GridSearchCV(LogisticRegression(), param_grid=param_grid, \n",
    "                        cv=3, scoring=\"roc_auc\")\n",
    "    grid.fit(train_new_derived_x, train_new_derived_y)\n",
    "    print(grid.best_params_)\n",
    "    print(grid.best_score_)"
   ]
  },
  {
   "cell_type": "code",
   "execution_count": 144,
   "metadata": {},
   "outputs": [
    {
     "data": {
      "text/plain": [
       "0.5433991053571894"
      ]
     },
     "execution_count": 144,
     "metadata": {},
     "output_type": "execute_result"
    }
   ],
   "source": [
    "y_pred = grid.best_estimator_.predict(test_new_derived_x)\n",
    "roc_auc_score(test_new_derived_y, y_pred)"
   ]
  },
  {
   "cell_type": "markdown",
   "metadata": {},
   "source": [
    "## Map features to polynomial space"
   ]
  },
  {
   "cell_type": "code",
   "execution_count": 149,
   "metadata": {},
   "outputs": [
    {
     "name": "stdout",
     "output_type": "stream",
     "text": [
      "{'C': 1}\n",
      "0.6700205293901936\n"
     ]
    }
   ],
   "source": [
    "from sklearn.preprocessing import PolynomialFeatures\n",
    "\n",
    "data_poly_x = PolynomialFeatures().fit(train_new_derived_x)\n",
    "data_poly_x_train = data_poly_x.transform(train_new_derived_x)\n",
    "with warnings.catch_warnings():\n",
    "    warnings.simplefilter(\"ignore\")\n",
    "\n",
    "    param_grid = {\"C\": [10, 1, 0.1]}\n",
    "    \n",
    "    grid = GridSearchCV(LogisticRegression(), param_grid=param_grid, \n",
    "                        cv=3, scoring=\"roc_auc\")\n",
    "    grid.fit(data_poly_x_train, train_new_derived_y)\n",
    "    print(grid.best_params_)\n",
    "    print(grid.best_score_)"
   ]
  },
  {
   "cell_type": "code",
   "execution_count": 151,
   "metadata": {},
   "outputs": [
    {
     "data": {
      "text/plain": [
       "0.5004751621121957"
      ]
     },
     "execution_count": 151,
     "metadata": {},
     "output_type": "execute_result"
    }
   ],
   "source": [
    "data_poly_x_test = data_poly_x.transform(test_new_derived_x)\n",
    "y_pred = grid.best_estimator_.predict(data_poly_x_test)\n",
    "roc_auc_score(test_new_derived_y, y_pred)"
   ]
  },
  {
   "cell_type": "markdown",
   "metadata": {},
   "source": [
    "From the above, we conclude that the new features derived do not convey any information about the target variable. The models discussed prior to this are better than this model."
   ]
  },
  {
   "cell_type": "markdown",
   "metadata": {},
   "source": [
    "## With Lemmatization"
   ]
  },
  {
   "cell_type": "markdown",
   "metadata": {},
   "source": [
    "We used nltk package to lemmatize words in the dataset and apply count vectorizer on it"
   ]
  },
  {
   "cell_type": "code",
   "execution_count": 162,
   "metadata": {},
   "outputs": [
    {
     "name": "stderr",
     "output_type": "stream",
     "text": [
      "[nltk_data] Downloading package wordnet to /Users/alex/nltk_data...\n",
      "[nltk_data]   Unzipping corpora/wordnet.zip.\n"
     ]
    }
   ],
   "source": [
    "from nltk.stem import WordNetLemmatizer\n",
    "nltk.download('wordnet')\n",
    "\n",
    "wnl = WordNetLemmatizer()\n",
    "df = []\n",
    "for index,row in train['body'].iteritems():\n",
    "    all_tokens = []\n",
    "    tokens = nltk.word_tokenize(row)\n",
    "    for token in tokens:\n",
    "        all_tokens.append(wnl.lemmatize(token))\n",
    "    df.append(all_tokens)"
   ]
  },
  {
   "cell_type": "code",
   "execution_count": 163,
   "metadata": {},
   "outputs": [
    {
     "name": "stdout",
     "output_type": "stream",
     "text": [
      "(20000,)\n"
     ]
    }
   ],
   "source": [
    "mydf = []\n",
    "for r in df:\n",
    "    string = ' '.join(r)\n",
    "    mydf.append(string)\n",
    "mydf = np.array(mydf)"
   ]
  },
  {
   "cell_type": "code",
   "execution_count": 164,
   "metadata": {},
   "outputs": [
    {
     "name": "stdout",
     "output_type": "stream",
     "text": [
      "{'logisticregression__C': 0.1}\n",
      "0.7304707288480369\n"
     ]
    }
   ],
   "source": [
    "with warnings.catch_warnings():\n",
    "    warnings.simplefilter(\"ignore\")\n",
    "\n",
    "    param_grid = {\"logisticregression__C\": [0.0001,0.001,10, 1, 0.1,1000]}\n",
    "    grid = GridSearchCV(make_pipeline(CountVectorizer(min_df=2), \n",
    "                                      LogisticRegression(),\n",
    "                                      memory=\"cache_folder\"),\n",
    "                        param_grid=param_grid, cv=3, scoring=\"roc_auc\"\n",
    "                       )\n",
    "    grid.fit(mydf, train['REMOVED'])\n",
    "    print(\"Cross validation best parameter and training score:\")\n",
    "    print(grid.best_params_)\n",
    "    print(grid.best_score_)"
   ]
  },
  {
   "cell_type": "code",
   "execution_count": 165,
   "metadata": {},
   "outputs": [
    {
     "name": "stdout",
     "output_type": "stream",
     "text": [
      "(4000,)\n"
     ]
    }
   ],
   "source": [
    "df = []\n",
    "for index,row in test['body'].iteritems():\n",
    "    all_tokens = []\n",
    "    tokens = nltk.word_tokenize(row)\n",
    "    for token in tokens:\n",
    "        all_tokens.append(wnl.lemmatize(token))\n",
    "    df.append(all_tokens)\n",
    "    \n",
    "lemm_test = []\n",
    "for r in df:\n",
    "    string = ' '.join(r)\n",
    "    lemm_test.append(string)\n",
    "lemm_test = np.array(lemm_test)"
   ]
  },
  {
   "cell_type": "code",
   "execution_count": 167,
   "metadata": {},
   "outputs": [
    {
     "data": {
      "text/plain": [
       "0.6360010630566989"
      ]
     },
     "execution_count": 167,
     "metadata": {},
     "output_type": "execute_result"
    }
   ],
   "source": [
    "y_pred = grid.best_estimator_.predict(lemm_test)\n",
    "print(\"Test score on lemmatized dataset:\")\n",
    "roc_auc_score(test['REMOVED'], y_pred)"
   ]
  },
  {
   "cell_type": "markdown",
   "metadata": {},
   "source": [
    "## Word2vec representation"
   ]
  },
  {
   "cell_type": "code",
   "execution_count": 1,
   "metadata": {},
   "outputs": [],
   "source": [
    "import gensim\n",
    "from gensim.models import Word2Vec\n",
    "\n",
    "model = gensim.models.KeyedVectors.load_word2vec_format('GoogleNews-vectors-negative300.bin',\n",
    "                                                        binary=True)\n"
   ]
  },
  {
   "cell_type": "code",
   "execution_count": 2,
   "metadata": {},
   "outputs": [],
   "source": [
    "def convert2vec(text):\n",
    "    vec = []\n",
    "    for index, doc in text.iteritems():\n",
    "        mod_val = []\n",
    "        for word in doc.split(' '):\n",
    "            if word in stop or word.isdigit():\n",
    "                continue\n",
    "            try:\n",
    "                mod_val.append(model[word])\n",
    "            except:\n",
    "                continue\n",
    "        if not mod_val:\n",
    "            vec.append([0]*300)\n",
    "        else:\n",
    "            vec.append(np.mean(np.array(mod_val), axis=0).tolist())\n",
    "    return np.array(vec)"
   ]
  },
  {
   "cell_type": "code",
   "execution_count": 10,
   "metadata": {},
   "outputs": [],
   "source": [
    "vec = convert2vec(train['body'])"
   ]
  },
  {
   "cell_type": "code",
   "execution_count": 11,
   "metadata": {},
   "outputs": [
    {
     "name": "stdout",
     "output_type": "stream",
     "text": [
      "{'C': 0.1}\n",
      "0.6993820442773924\n"
     ]
    }
   ],
   "source": [
    "from sklearn.model_selection import GridSearchCV\n",
    "from sklearn.linear_model import LogisticRegression\n",
    "\n",
    "import warnings\n",
    "with warnings.catch_warnings():\n",
    "    warnings.simplefilter(\"ignore\")\n",
    "    param_lr = {'C': [0.001, 0.01, 0.1, 1, 10, 100] }\n",
    "    gs_lr = GridSearchCV(estimator=LogisticRegression(),\n",
    "                         param_grid=param_lr,scoring=\"roc_auc\")\n",
    "    gs_lr.fit(vec, train['REMOVED'])\n",
    "    print(gs_lr.best_params_)\n",
    "    print(gs_lr.best_score_)\n"
   ]
  },
  {
   "cell_type": "code",
   "execution_count": 13,
   "metadata": {},
   "outputs": [
    {
     "data": {
      "text/plain": [
       "0.5977853033322207"
      ]
     },
     "execution_count": 13,
     "metadata": {},
     "output_type": "execute_result"
    }
   ],
   "source": [
    "from sklearn.metrics import roc_auc_score\n",
    "y_pred = gs_lr.best_estimator_.predict(convert2vec(test['body']))\n",
    "roc_auc_score(test['REMOVED'],y_pred)"
   ]
  },
  {
   "cell_type": "markdown",
   "metadata": {},
   "source": [
    "#### Word2vec is giving bad results possibly because it is a pre-trained model on a different corpus. It is creating a vector space where context of words is captured in the documents by which they are trained. So, this pretrained model may not hold good for our train/test data. This possibly explains the poor roc auc scores."
   ]
  },
  {
   "cell_type": "markdown",
   "metadata": {},
   "source": [
    "## Fast text representation"
   ]
  },
  {
   "cell_type": "code",
   "execution_count": 180,
   "metadata": {},
   "outputs": [],
   "source": [
    "from gensim.test.utils import datapath\n",
    "from gensim.models import KeyedVectors\n",
    "wv_from_text = KeyedVectors.load_word2vec_format(\\\n",
    "    datapath('/Users/alex/Desktop/AppliedML/homework-4-alk2225_av2845/wiki-news-300d-1M.vec'), binary=False)"
   ]
  },
  {
   "cell_type": "code",
   "execution_count": 184,
   "metadata": {},
   "outputs": [],
   "source": [
    "def convert2vec(text):\n",
    "    vec = []\n",
    "    for index, doc in text.iteritems():\n",
    "        mod_val = []\n",
    "        for word in doc.split(' '):\n",
    "            if word in stop or word.isdigit():\n",
    "                continue\n",
    "            try:\n",
    "                mod_val.append(wv_from_text[word])\n",
    "            except:\n",
    "                continue\n",
    "        if not mod_val:\n",
    "            vec.append([0]*300)\n",
    "        else:\n",
    "            vec.append(np.mean(np.array(mod_val), axis=0).tolist())\n",
    "    return np.array(vec)"
   ]
  },
  {
   "cell_type": "code",
   "execution_count": null,
   "metadata": {},
   "outputs": [],
   "source": [
    "vec = convert2vec(train['body'])"
   ]
  },
  {
   "cell_type": "code",
   "execution_count": 185,
   "metadata": {},
   "outputs": [
    {
     "name": "stdout",
     "output_type": "stream",
     "text": [
      "{'C': 0.1}\n",
      "0.6977924699550933\n"
     ]
    }
   ],
   "source": [
    "from sklearn.model_selection import GridSearchCV\n",
    "from sklearn.linear_model import LogisticRegression\n",
    "\n",
    "import warnings\n",
    "with warnings.catch_warnings():\n",
    "    warnings.simplefilter(\"ignore\")\n",
    "    param_lr = {'C': [0.001, 0.01, 0.1, 1, 10, 100] }\n",
    "    gs_lr = GridSearchCV(estimator=LogisticRegression(),\n",
    "                         param_grid=param_lr,scoring=\"roc_auc\")\n",
    "    gs_lr.fit(vec, train['REMOVED'])\n",
    "    print(gs_lr.best_params_)\n",
    "    print(gs_lr.best_score_)"
   ]
  },
  {
   "cell_type": "code",
   "execution_count": 188,
   "metadata": {},
   "outputs": [
    {
     "data": {
      "text/plain": [
       "0.5002195385923033"
      ]
     },
     "execution_count": 188,
     "metadata": {},
     "output_type": "execute_result"
    }
   ],
   "source": [
    "y_pred = gs_lr.best_estimator_.predict(convert2vec(test['body']))\n",
    "roc_auc_score(test['REMOVED'],y_pred)"
   ]
  },
  {
   "cell_type": "markdown",
   "metadata": {},
   "source": [
    "The same explanation for word2vec holds for fasttext too!!"
   ]
  },
  {
   "cell_type": "markdown",
   "metadata": {},
   "source": [
    "## Our best model"
   ]
  },
  {
   "cell_type": "markdown",
   "metadata": {},
   "source": [
    "Our best model with all the above trials is as follows:\n",
    "{'logisticregression__C': 1, 'tfidfvectorizer__ngram_range': (2, 3)}\n",
    "Cross validation score - 0.7350216478366282\n",
    "Test score - 0.66\n",
    "\n",
    "This is the most general model:\n",
    "{'countvectorizer__min_df': 2, 'countvectorizer__ngram_range': (2, 2), 'logisticregression__C': 1}\n",
    "cross validation score - 0.6870029111181523\n",
    "Test score - 0.668593654478653\n"
   ]
  }
 ],
 "metadata": {
  "kernelspec": {
   "display_name": "Python 3",
   "language": "python",
   "name": "python3"
  },
  "language_info": {
   "codemirror_mode": {
    "name": "ipython",
    "version": 3
   },
   "file_extension": ".py",
   "mimetype": "text/x-python",
   "name": "python",
   "nbconvert_exporter": "python",
   "pygments_lexer": "ipython3",
   "version": "3.7.1"
  }
 },
 "nbformat": 4,
 "nbformat_minor": 2
}
